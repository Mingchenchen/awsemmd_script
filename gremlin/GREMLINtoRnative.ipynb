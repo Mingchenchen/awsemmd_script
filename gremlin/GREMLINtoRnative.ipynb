{
 "cells": [
  {
   "cell_type": "code",
   "execution_count": 46,
   "metadata": {
    "collapsed": true
   },
   "outputs": [],
   "source": [
    "import pandas as pd\n",
    "import numpy as np\n",
    "import matplotlib.pyplot as plt\n",
    "import os\n",
    "%matplotlib inline"
   ]
  },
  {
   "cell_type": "code",
   "execution_count": 19,
   "metadata": {
    "collapsed": true
   },
   "outputs": [],
   "source": [
    "#read in median distances for pairwise interactions (obtained from analysis of the pdb)\n",
    "directory='/Users/weilu/opt/gremlin/'\n",
    "distancesCACB=pd.read_table(directory+'CACBmediandist.dat', delim_whitespace=True, header=None)\n",
    "distancesCACA=pd.read_table(directory+'CACAmediandist.dat', delim_whitespace=True, header=None)\n",
    "distancesCBCB=pd.read_table(directory+'CBCBmediandist.dat', delim_whitespace=True, header=None)\n",
    "distancesCACB.columns = ['i', 'j', 'dist']\n",
    "distancesCACA.columns = ['i', 'j', 'dist']\n",
    "distancesCBCB.columns = ['i', 'j', 'dist']\n",
    "#if you want to filter the gremlin data, adjust the parameters below\n",
    "filter_threshold=0.1\n",
    "column=6\n",
    "name='gremlin'"
   ]
  },
  {
   "cell_type": "code",
   "execution_count": 47,
   "metadata": {},
   "outputs": [
    {
     "data": {
      "image/png": "[encoded data removed]",
      "text/plain": [
       "<matplotlib.figure.Figure at 0x11d0ceeb8>"
      ]
     },
     "metadata": {},
     "output_type": "display_data"
    }
   ],
   "source": [
    "#make sure that there is a sequence file for the protein and the downloaded gremlin data in the proper directories\n",
    "\n",
    "# pdbID='2bg9'\n",
    "pdbID='2bl2'\n",
    "directory = \"/Users/weilu/opt/gremlin/protein/\" + pdbID + \"/\"\n",
    "f = open(directory+pdbID+\".seq\",\"r\")\n",
    "n=len(f.readlines()[0].strip())\n",
    "f.close()\n",
    "#load downloaded gremlin file\n",
    "gremlin_data=np.loadtxt(directory+\"gremlin.\"+pdbID+\".dat\", dtype=bytes, skiprows=1)\n",
    "rnative_matrixCACB=np.ones([n,n])*99\n",
    "rnative_matrixCACA=np.ones([n,n])*99\n",
    "rnative_matrixCBCB=np.ones([n,n])*99\n",
    "for pair in gremlin_data:\n",
    "    i=int(pair[0])\n",
    "    j=int(pair[1])\n",
    "    irestype=pair[2][-1:].decode()\n",
    "    jrestype=pair[3][-1:].decode()\n",
    "#     print(irestype, jrestype)\n",
    "    if float(pair[column]) > filter_threshold:\n",
    "        if sum((distancesCACB['i']==irestype)&(distancesCACB['j']==jrestype))>0: #check if pair is in correct order\n",
    "            well_centerCACB = distancesCACB[(distancesCACB['i']==irestype)&(distancesCACB['j']==jrestype)]['dist'].values[0]\n",
    "            well_centerCACA = distancesCACA[(distancesCACA['i']==irestype)&(distancesCACA['j']==jrestype)]['dist'].values[0]\n",
    "            well_centerCBCB = distancesCBCB[(distancesCBCB['i']==irestype)&(distancesCBCB['j']==jrestype)]['dist'].values[0]            \n",
    "        else:\n",
    "            well_centerCACB = distancesCACB[(distancesCACB['i']==jrestype)&(distancesCACB['j']==irestype)]['dist'].values[0]\n",
    "            well_centerCACA = distancesCACA[(distancesCACA['i']==jrestype)&(distancesCACA['j']==irestype)]['dist'].values[0]\n",
    "            well_centerCBCB = distancesCBCB[(distancesCBCB['i']==jrestype)&(distancesCBCB['j']==irestype)]['dist'].values[0]\n",
    "\n",
    "        rnative_matrixCACB[i-1, j-1] = well_centerCACB\n",
    "        rnative_matrixCACB[j-1, i-1] = well_centerCACB\n",
    "        rnative_matrixCACA[i-1, j-1] = well_centerCACA\n",
    "        rnative_matrixCACA[j-1, i-1] = well_centerCACA\n",
    "        rnative_matrixCBCB[i-1, j-1] = well_centerCBCB\n",
    "        rnative_matrixCBCB[j-1, i-1] = well_centerCBCB\n",
    "        \n",
    "plt.matshow(rnative_matrixCACA)\n",
    "\n",
    "directory = \"/Users/weilu/opt/gremlin/protein/\" + pdbID + \"/gremlin/\"\n",
    "os.system(\"mkdir \" + directory)\n",
    "np.savetxt(directory + 'go_rnativeCACB.dat', rnative_matrixCACB, fmt='%10.5f')\n",
    "np.savetxt(directory + 'go_rnativeCACA.dat', rnative_matrixCACA, fmt='%10.5f')\n",
    "np.savetxt(directory + 'go_rnativeCBCB.dat', rnative_matrixCBCB, fmt='%10.5f')"
   ]
  }
 ],
 "metadata": {
  "kernelspec": {
   "display_name": "Python 3",
   "language": "python",
   "name": "python3"
  },
  "language_info": {
   "codemirror_mode": {
    "name": "ipython",
    "version": 3
   },
   "file_extension": ".py",
   "mimetype": "text/x-python",
   "name": "python",
   "nbconvert_exporter": "python",
   "pygments_lexer": "ipython3",
   "version": "3.6.1"
  }
 },
 "nbformat": 4,
 "nbformat_minor": 1
}
